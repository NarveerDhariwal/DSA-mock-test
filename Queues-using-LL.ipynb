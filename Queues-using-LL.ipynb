{
 "cells": [
  {
   "cell_type": "code",
   "execution_count": 67,
   "id": "62c581ab",
   "metadata": {},
   "outputs": [],
   "source": [
    "class Node:\n",
    "    def __init__(self, value):\n",
    "        self.data = value\n",
    "        self.next = None"
   ]
  },
  {
   "cell_type": "code",
   "execution_count": 68,
   "id": "9bdb50cb",
   "metadata": {},
   "outputs": [],
   "source": [
    "class Queue:\n",
    "    \n",
    "    def __init__(self):\n",
    "        self.front = None\n",
    "        self.rear = None\n",
    "        \n",
    "    def enqueue(self, value):\n",
    "        \n",
    "        new_node = Node(value)\n",
    "        \n",
    "        if self.rear == None:\n",
    "            self.front = new_node\n",
    "            self.rear = self.front\n",
    "            \n",
    "        else:\n",
    "            self.rear.next = new_node\n",
    "            self.rear = new_node\n",
    "            \n",
    "    def dequeue(self):\n",
    "        \n",
    "        if self.front == None:\n",
    "            return \"Queue Empty\"\n",
    "        else:\n",
    "            self.front = self.front.next\n",
    "            \n",
    "    def isEmpty(self):\n",
    "        return self.front == None\n",
    "    \n",
    "    def size(self):\n",
    "        temp = self.front\n",
    "        counter = 0\n",
    "        \n",
    "        while temp != None:\n",
    "            counter+=1\n",
    "            temp = temp.next\n",
    "        \n",
    "        return counter\n",
    "    \n",
    "    def front_item(self):\n",
    "        if self.front == None:\n",
    "            return \"Queue Empty\"\n",
    "        else:\n",
    "            return self.front.data\n",
    "        \n",
    "    def rear_item(self):\n",
    "        if self.rear == None:\n",
    "            return \"Queue Empty\"\n",
    "        else:\n",
    "            return self.rear.data\n",
    "        \n",
    "        \n",
    "    def traverse(self):\n",
    "        \n",
    "        temp = self.front\n",
    "        \n",
    "        while temp!=None:\n",
    "            print(temp.data)\n",
    "            temp = temp.next\n",
    "            "
   ]
  },
  {
   "cell_type": "code",
   "execution_count": 69,
   "id": "bef3426c",
   "metadata": {},
   "outputs": [],
   "source": [
    "q = Queue()"
   ]
  },
  {
   "cell_type": "code",
   "execution_count": 93,
   "id": "cd0efe94",
   "metadata": {},
   "outputs": [],
   "source": [
    "q.enqueue(4)\n",
    "q.enqueue(5)\n",
    "q.enqueue(7)"
   ]
  },
  {
   "cell_type": "code",
   "execution_count": 94,
   "id": "4c583428",
   "metadata": {},
   "outputs": [],
   "source": [
    "q.traverse()"
   ]
  },
  {
   "cell_type": "code",
   "execution_count": 90,
   "id": "468544bd",
   "metadata": {},
   "outputs": [],
   "source": [
    "q.dequeue()"
   ]
  },
  {
   "cell_type": "code",
   "execution_count": 91,
   "id": "aa6015fc",
   "metadata": {},
   "outputs": [
    {
     "data": {
      "text/plain": [
       "True"
      ]
     },
     "execution_count": 91,
     "metadata": {},
     "output_type": "execute_result"
    }
   ],
   "source": [
    "q.isEmpty()"
   ]
  },
  {
   "cell_type": "code",
   "execution_count": 78,
   "id": "5b12bbb5",
   "metadata": {},
   "outputs": [
    {
     "data": {
      "text/plain": [
       "7"
      ]
     },
     "execution_count": 78,
     "metadata": {},
     "output_type": "execute_result"
    }
   ],
   "source": [
    "q.front_item()"
   ]
  },
  {
   "cell_type": "code",
   "execution_count": 79,
   "id": "c845fcae",
   "metadata": {},
   "outputs": [
    {
     "data": {
      "text/plain": [
       "7"
      ]
     },
     "execution_count": 79,
     "metadata": {},
     "output_type": "execute_result"
    }
   ],
   "source": [
    "q.rear_item()"
   ]
  },
  {
   "cell_type": "code",
   "execution_count": 86,
   "id": "9d02ff4b",
   "metadata": {},
   "outputs": [
    {
     "data": {
      "text/plain": [
       "3"
      ]
     },
     "execution_count": 86,
     "metadata": {},
     "output_type": "execute_result"
    }
   ],
   "source": [
    "q.size()"
   ]
  },
  {
   "cell_type": "code",
   "execution_count": null,
   "id": "56ec4f9a",
   "metadata": {},
   "outputs": [],
   "source": []
  }
 ],
 "metadata": {
  "kernelspec": {
   "display_name": "Python 3 (ipykernel)",
   "language": "python",
   "name": "python3"
  },
  "language_info": {
   "codemirror_mode": {
    "name": "ipython",
    "version": 3
   },
   "file_extension": ".py",
   "mimetype": "text/x-python",
   "name": "python",
   "nbconvert_exporter": "python",
   "pygments_lexer": "ipython3",
   "version": "3.11.3"
  }
 },
 "nbformat": 4,
 "nbformat_minor": 5
}
